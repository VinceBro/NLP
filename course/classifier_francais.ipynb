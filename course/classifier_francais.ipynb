{
 "cells": [
  {
   "cell_type": "code",
   "execution_count": 122,
   "metadata": {},
   "outputs": [
    {
     "name": "stdout",
     "output_type": "stream",
     "text": [
      "The autoreload extension is already loaded. To reload it, use:\n",
      "  %reload_ext autoreload\n"
     ]
    }
   ],
   "source": [
    "%load_ext autoreload\n",
    "%autoreload 2\n",
    "from fastai import *\n",
    "from fastai.text import *\n",
    "import re\n",
    "torch.cuda.set_device(1)"
   ]
  },
  {
   "cell_type": "code",
   "execution_count": 2,
   "metadata": {
    "scrolled": true
   },
   "outputs": [
    {
     "data": {
      "text/plain": [
       "PosixPath('/home/momgpu/.fastai/data')"
      ]
     },
     "execution_count": 2,
     "metadata": {},
     "output_type": "execute_result"
    }
   ],
   "source": [
    "data_path = Config.data_path(); data_path"
   ]
  },
  {
   "cell_type": "code",
   "execution_count": 3,
   "metadata": {},
   "outputs": [],
   "source": [
    "bs = 64"
   ]
  },
  {
   "cell_type": "code",
   "execution_count": 4,
   "metadata": {},
   "outputs": [],
   "source": [
    "lang = 'fr'\n",
    "name = f'{lang}wiki'\n",
    "path = data_path/name"
   ]
  },
  {
   "cell_type": "code",
   "execution_count": 5,
   "metadata": {},
   "outputs": [],
   "source": [
    "mdl_path = path/'models'\n",
    "mdl_path.mkdir(exist_ok=True)"
   ]
  },
  {
   "cell_type": "code",
   "execution_count": 136,
   "metadata": {},
   "outputs": [
    {
     "name": "stdout",
     "output_type": "stream",
     "text": [
      "<class 'list'>\n"
     ]
    }
   ],
   "source": [
    "\n",
    "with open(f\"{path}/all2.txt\", \"r\") as fich:\n",
    "    text = fich.readlines()\n",
    "    for string in text:\n",
    "        urls += (re.sub('(http|ftp|https)://([\\w_-]+(?:(?:\\.[\\w_-]+)+))([\\w.,@?^=%&:/~+#-]*[\\w@?^=%&/~+#-])?', \"\", string))\n",
    "    print(type(urls))\n",
    "\n",
    "#print(text[:100])\n",
    "with open(f\"{path}/all3.txt\", \"w\") as fich:\n",
    "    fich.writelines(urls)"
   ]
  },
  {
   "cell_type": "code",
   "execution_count": 137,
   "metadata": {},
   "outputs": [],
   "source": [
    "df = pd.read_csv(f\"{path}/all3.txt\", sep=\"\\t\", header=None)"
   ]
  },
  {
   "cell_type": "code",
   "execution_count": 138,
   "metadata": {
    "scrolled": true
   },
   "outputs": [],
   "source": [
    "df.columns=[\"none\", \"sentiment\", \"content\"]"
   ]
  },
  {
   "cell_type": "code",
   "execution_count": 139,
   "metadata": {},
   "outputs": [],
   "source": [
    "df = df.drop(columns=[\"none\"])"
   ]
  },
  {
   "cell_type": "code",
   "execution_count": 140,
   "metadata": {
    "scrolled": true
   },
   "outputs": [
    {
     "data": {
      "text/html": [
       "<div>\n",
       "<style scoped>\n",
       "    .dataframe tbody tr th:only-of-type {\n",
       "        vertical-align: middle;\n",
       "    }\n",
       "\n",
       "    .dataframe tbody tr th {\n",
       "        vertical-align: top;\n",
       "    }\n",
       "\n",
       "    .dataframe thead th {\n",
       "        text-align: right;\n",
       "    }\n",
       "</style>\n",
       "<table border=\"1\" class=\"dataframe\">\n",
       "  <thead>\n",
       "    <tr style=\"text-align: right;\">\n",
       "      <th></th>\n",
       "      <th>sentiment</th>\n",
       "      <th>content</th>\n",
       "    </tr>\n",
       "  </thead>\n",
       "  <tbody>\n",
       "    <tr>\n",
       "      <th>0</th>\n",
       "      <td>objective</td>\n",
       "      <td>Rencontre avec Dodo La Saumure : «Je ne connai...</td>\n",
       "    </tr>\n",
       "    <tr>\n",
       "      <th>1</th>\n",
       "      <td>negative</td>\n",
       "      <td>Heureusement que le candidat n'est pas DSK car...</td>\n",
       "    </tr>\n",
       "    <tr>\n",
       "      <th>2</th>\n",
       "      <td>objective</td>\n",
       "      <td>Quand DSK ne voulait pas «rater» les journalis...</td>\n",
       "    </tr>\n",
       "    <tr>\n",
       "      <th>3</th>\n",
       "      <td>objective</td>\n",
       "      <td>Le 28 mars mise en examen pour proxénétisme ag...</td>\n",
       "    </tr>\n",
       "    <tr>\n",
       "      <th>4</th>\n",
       "      <td>objective</td>\n",
       "      <td>Sarkozy : \"Ce n'est pas Hollande que le PS vou...</td>\n",
       "    </tr>\n",
       "    <tr>\n",
       "      <th>5</th>\n",
       "      <td>negative</td>\n",
       "      <td>Hollande est candidat suite au pbl de DSK et i...</td>\n",
       "    </tr>\n",
       "    <tr>\n",
       "      <th>6</th>\n",
       "      <td>objective</td>\n",
       "      <td>Depardieu dans le rôle de DSK : \"Je ne l'aime ...</td>\n",
       "    </tr>\n",
       "    <tr>\n",
       "      <th>7</th>\n",
       "      <td>mixed</td>\n",
       "      <td>Quand soudain, l'évidence. C'est pas Depardieu...</td>\n",
       "    </tr>\n",
       "    <tr>\n",
       "      <th>8</th>\n",
       "      <td>negative</td>\n",
       "      <td>Le juge tacle avocat de #dsk. Vous êtes ok pou...</td>\n",
       "    </tr>\n",
       "    <tr>\n",
       "      <th>9</th>\n",
       "      <td>objective</td>\n",
       "      <td>DSK n'est pas un libertin mais un homme brutal...</td>\n",
       "    </tr>\n",
       "    <tr>\n",
       "      <th>10</th>\n",
       "      <td>mixed</td>\n",
       "      <td>L'effet papillon. — Le second tour aurait été ...</td>\n",
       "    </tr>\n",
       "    <tr>\n",
       "      <th>11</th>\n",
       "      <td>mixed</td>\n",
       "      <td>Les déclarations de DSK démontre aux éventuels...</td>\n",
       "    </tr>\n",
       "    <tr>\n",
       "      <th>12</th>\n",
       "      <td>mixed</td>\n",
       "      <td>Royal, Valls et Moscovici fuient pour ne pas c...</td>\n",
       "    </tr>\n",
       "    <tr>\n",
       "      <th>13</th>\n",
       "      <td>objective</td>\n",
       "      <td>Hollande renvoie Dray et #DSK dans les cordes:...</td>\n",
       "    </tr>\n",
       "    <tr>\n",
       "      <th>14</th>\n",
       "      <td>objective</td>\n",
       "      <td>Selon plusieurs témoins présents hier a l'anni...</td>\n",
       "    </tr>\n",
       "    <tr>\n",
       "      <th>15</th>\n",
       "      <td>objective</td>\n",
       "      <td>Carlton de Lille : DSK assure avoir cru à du l...</td>\n",
       "    </tr>\n",
       "    <tr>\n",
       "      <th>16</th>\n",
       "      <td>negative</td>\n",
       "      <td>150 invités pour DSK et Thomas Hollande qui fa...</td>\n",
       "    </tr>\n",
       "    <tr>\n",
       "      <th>17</th>\n",
       "      <td>mixed</td>\n",
       "      <td>Face aux attaques sur l'anniv de Dray avec DSK...</td>\n",
       "    </tr>\n",
       "    <tr>\n",
       "      <th>18</th>\n",
       "      <td>negative</td>\n",
       "      <td>Sarkozy a gâché la cartouche DSK... il aurait ...</td>\n",
       "    </tr>\n",
       "    <tr>\n",
       "      <th>19</th>\n",
       "      <td>mixed</td>\n",
       "      <td>@fhollande a été 11 ans premier secrétaire du ...</td>\n",
       "    </tr>\n",
       "    <tr>\n",
       "      <th>20</th>\n",
       "      <td>negative</td>\n",
       "      <td>Hollande peut remercier Valls (comme ministre ...</td>\n",
       "    </tr>\n",
       "    <tr>\n",
       "      <th>21</th>\n",
       "      <td>objective</td>\n",
       "      <td>Affaire DSK: pas de plainte pour viol à Washin...</td>\n",
       "    </tr>\n",
       "    <tr>\n",
       "      <th>22</th>\n",
       "      <td>negative</td>\n",
       "      <td>Honte sur lui  Tiens, je n'avais pas vu \"DSK r...</td>\n",
       "    </tr>\n",
       "    <tr>\n",
       "      <th>23</th>\n",
       "      <td>negative</td>\n",
       "      <td>Je ne comprend même pas pourquoi ce fameux Chr...</td>\n",
       "    </tr>\n",
       "    <tr>\n",
       "      <th>24</th>\n",
       "      <td>objective</td>\n",
       "      <td>Les avocats de #DSK contestent le fait qu'il n...</td>\n",
       "    </tr>\n",
       "    <tr>\n",
       "      <th>25</th>\n",
       "      <td>negative</td>\n",
       "      <td>.@benoitHamon dans la navette fluviale nous fa...</td>\n",
       "    </tr>\n",
       "    <tr>\n",
       "      <th>26</th>\n",
       "      <td>objective</td>\n",
       "      <td>Carlton : la prostituée qui a mis DSK en cause...</td>\n",
       "    </tr>\n",
       "    <tr>\n",
       "      <th>27</th>\n",
       "      <td>negative</td>\n",
       "      <td>DSK et Gomis n'ont pas le même maillot mais on...</td>\n",
       "    </tr>\n",
       "    <tr>\n",
       "      <th>28</th>\n",
       "      <td>objective</td>\n",
       "      <td>Je suis un peu perdu dans l'actu importante du...</td>\n",
       "    </tr>\n",
       "    <tr>\n",
       "      <th>29</th>\n",
       "      <td>positive</td>\n",
       "      <td>à ne pas rater ce soir sur #TF1 dans New York ...</td>\n",
       "    </tr>\n",
       "    <tr>\n",
       "      <th>...</th>\n",
       "      <td>...</td>\n",
       "      <td>...</td>\n",
       "    </tr>\n",
       "    <tr>\n",
       "      <th>107457</th>\n",
       "      <td>objective</td>\n",
       "      <td>10h ds la salle au nom du mathématicien G Merc...</td>\n",
       "    </tr>\n",
       "    <tr>\n",
       "      <th>107458</th>\n",
       "      <td>negative</td>\n",
       "      <td>Le GARDIEN (tank, défense, toussa) obtient un ...</td>\n",
       "    </tr>\n",
       "    <tr>\n",
       "      <th>107459</th>\n",
       "      <td>negative</td>\n",
       "      <td>Oh tiens Bruno Retailleau un vendéen catho... ...</td>\n",
       "    </tr>\n",
       "    <tr>\n",
       "      <th>107460</th>\n",
       "      <td>negative</td>\n",
       "      <td>Dire @Emmanuel_Moine \"les faits divers ds le N...</td>\n",
       "    </tr>\n",
       "    <tr>\n",
       "      <th>107461</th>\n",
       "      <td>negative</td>\n",
       "      <td>@CMARTYLUSO1 @hangen_claude Pas sûre que Franç...</td>\n",
       "    </tr>\n",
       "    <tr>\n",
       "      <th>107462</th>\n",
       "      <td>mixed</td>\n",
       "      <td>@AzurlucLucas Une \"tentative de suicide\" qui a...</td>\n",
       "    </tr>\n",
       "    <tr>\n",
       "      <th>107463</th>\n",
       "      <td>negative</td>\n",
       "      <td>Le @RERC_SNCF nous a fait profité des fraîcheu...</td>\n",
       "    </tr>\n",
       "    <tr>\n",
       "      <th>107464</th>\n",
       "      <td>negative</td>\n",
       "      <td>Gare de Metz, aucun affichage de la destinatio...</td>\n",
       "    </tr>\n",
       "    <tr>\n",
       "      <th>107465</th>\n",
       "      <td>mixed</td>\n",
       "      <td>@francoischarron @PierrePag Quand Noël est pas...</td>\n",
       "    </tr>\n",
       "    <tr>\n",
       "      <th>107466</th>\n",
       "      <td>negative</td>\n",
       "      <td>Bah oui, la raison première de faire des enfan...</td>\n",
       "    </tr>\n",
       "    <tr>\n",
       "      <th>107467</th>\n",
       "      <td>negative</td>\n",
       "      <td>J'adore le taff , manger en 5 minutes et trava...</td>\n",
       "    </tr>\n",
       "    <tr>\n",
       "      <th>107468</th>\n",
       "      <td>negative</td>\n",
       "      <td>@Mecloveur @ActualityFrance C'est vrai que #TP...</td>\n",
       "    </tr>\n",
       "    <tr>\n",
       "      <th>107469</th>\n",
       "      <td>negative</td>\n",
       "      <td>@TintinFournier quid du risque d'attaque extra...</td>\n",
       "    </tr>\n",
       "    <tr>\n",
       "      <th>107470</th>\n",
       "      <td>negative</td>\n",
       "      <td>@RTenfrancais @PatrickFN63 Au Québec, on appel...</td>\n",
       "    </tr>\n",
       "    <tr>\n",
       "      <th>107471</th>\n",
       "      <td>negative</td>\n",
       "      <td>Meilleur service client 2016-2036 @bouyguestel...</td>\n",
       "    </tr>\n",
       "    <tr>\n",
       "      <th>107472</th>\n",
       "      <td>negative</td>\n",
       "      <td>#HollandeRenonce Eh bien ... \"Merci pour ce mo...</td>\n",
       "    </tr>\n",
       "    <tr>\n",
       "      <th>107473</th>\n",
       "      <td>mixed</td>\n",
       "      <td>@WorIdStarLaugh On dirait une version américai...</td>\n",
       "    </tr>\n",
       "    <tr>\n",
       "      <th>107474</th>\n",
       "      <td>mixed</td>\n",
       "      <td>Les filles de #JacquelineSauvage ont fait une ...</td>\n",
       "    </tr>\n",
       "    <tr>\n",
       "      <th>107475</th>\n",
       "      <td>negative</td>\n",
       "      <td>Merci à @LePoint, @LEXPRESS et comparses pour ...</td>\n",
       "    </tr>\n",
       "    <tr>\n",
       "      <th>107476</th>\n",
       "      <td>negative</td>\n",
       "      <td>@GardiensDePaix Re-arrêtés après une perpétuit...</td>\n",
       "    </tr>\n",
       "    <tr>\n",
       "      <th>107477</th>\n",
       "      <td>negative</td>\n",
       "      <td>Libéré depuis le renoncement #Hollande va,à ts...</td>\n",
       "    </tr>\n",
       "    <tr>\n",
       "      <th>107478</th>\n",
       "      <td>negative</td>\n",
       "      <td>J'adore qu'on me mette des vents, c'est ma gra...</td>\n",
       "    </tr>\n",
       "    <tr>\n",
       "      <th>107479</th>\n",
       "      <td>negative</td>\n",
       "      <td>Bon on connait la suite ..Benoît gagne #KohLan...</td>\n",
       "    </tr>\n",
       "    <tr>\n",
       "      <th>107480</th>\n",
       "      <td>mixed</td>\n",
       "      <td>On l'aime ou pas, mais la Kanye West vient de ...</td>\n",
       "    </tr>\n",
       "    <tr>\n",
       "      <th>107481</th>\n",
       "      <td>negative</td>\n",
       "      <td>du rêve pour la France \"@abadinte: Collomb vou...</td>\n",
       "    </tr>\n",
       "    <tr>\n",
       "      <th>107482</th>\n",
       "      <td>mixed</td>\n",
       "      <td>«Petit traumatisme crânien» pour Berlusconi . ...</td>\n",
       "    </tr>\n",
       "    <tr>\n",
       "      <th>107483</th>\n",
       "      <td>negative</td>\n",
       "      <td>@jf_cope Bonne nouvelle pour l'#Ump, Ségolène ...</td>\n",
       "    </tr>\n",
       "    <tr>\n",
       "      <th>107484</th>\n",
       "      <td>negative</td>\n",
       "      <td>Certains métiers sont réservés à certaines per...</td>\n",
       "    </tr>\n",
       "    <tr>\n",
       "      <th>107485</th>\n",
       "      <td>negative</td>\n",
       "      <td>le gouvernement fait tout pour qu'on ne subiss...</td>\n",
       "    </tr>\n",
       "    <tr>\n",
       "      <th>107486</th>\n",
       "      <td>negative</td>\n",
       "      <td>#Chavez va mieux, il se remet à agresser les E...</td>\n",
       "    </tr>\n",
       "  </tbody>\n",
       "</table>\n",
       "<p>107487 rows × 2 columns</p>\n",
       "</div>"
      ],
      "text/plain": [
       "        sentiment                                            content\n",
       "0       objective  Rencontre avec Dodo La Saumure : «Je ne connai...\n",
       "1        negative  Heureusement que le candidat n'est pas DSK car...\n",
       "2       objective  Quand DSK ne voulait pas «rater» les journalis...\n",
       "3       objective  Le 28 mars mise en examen pour proxénétisme ag...\n",
       "4       objective  Sarkozy : \"Ce n'est pas Hollande que le PS vou...\n",
       "...           ...                                                ...\n",
       "107482      mixed  «Petit traumatisme crânien» pour Berlusconi . ...\n",
       "107483   negative  @jf_cope Bonne nouvelle pour l'#Ump, Ségolène ...\n",
       "107484   negative  Certains métiers sont réservés à certaines per...\n",
       "107485   negative  le gouvernement fait tout pour qu'on ne subiss...\n",
       "107486   negative  #Chavez va mieux, il se remet à agresser les E...\n",
       "\n",
       "[107487 rows x 2 columns]"
      ]
     },
     "execution_count": 140,
     "metadata": {},
     "output_type": "execute_result"
    }
   ],
   "source": [
    "df"
   ]
  },
  {
   "cell_type": "code",
   "execution_count": 141,
   "metadata": {
    "scrolled": true
   },
   "outputs": [],
   "source": [
    "df.to_csv(mdl_path/\"full_train.csv\", index=None)"
   ]
  },
  {
   "cell_type": "code",
   "execution_count": 142,
   "metadata": {},
   "outputs": [],
   "source": [
    "df_TEMP = pd.read_csv(mdl_path/\"full_train.csv\")"
   ]
  },
  {
   "cell_type": "code",
   "execution_count": 143,
   "metadata": {
    "scrolled": true
   },
   "outputs": [
    {
     "data": {
      "text/html": [
       "<div>\n",
       "<style scoped>\n",
       "    .dataframe tbody tr th:only-of-type {\n",
       "        vertical-align: middle;\n",
       "    }\n",
       "\n",
       "    .dataframe tbody tr th {\n",
       "        vertical-align: top;\n",
       "    }\n",
       "\n",
       "    .dataframe thead th {\n",
       "        text-align: right;\n",
       "    }\n",
       "</style>\n",
       "<table border=\"1\" class=\"dataframe\">\n",
       "  <thead>\n",
       "    <tr style=\"text-align: right;\">\n",
       "      <th></th>\n",
       "      <th>sentiment</th>\n",
       "      <th>content</th>\n",
       "    </tr>\n",
       "  </thead>\n",
       "  <tbody>\n",
       "    <tr>\n",
       "      <th>0</th>\n",
       "      <td>objective</td>\n",
       "      <td>Rencontre avec Dodo La Saumure : «Je ne connai...</td>\n",
       "    </tr>\n",
       "    <tr>\n",
       "      <th>1</th>\n",
       "      <td>negative</td>\n",
       "      <td>Heureusement que le candidat n'est pas DSK car...</td>\n",
       "    </tr>\n",
       "    <tr>\n",
       "      <th>2</th>\n",
       "      <td>objective</td>\n",
       "      <td>Quand DSK ne voulait pas «rater» les journalis...</td>\n",
       "    </tr>\n",
       "    <tr>\n",
       "      <th>3</th>\n",
       "      <td>objective</td>\n",
       "      <td>Le 28 mars mise en examen pour proxénétisme ag...</td>\n",
       "    </tr>\n",
       "    <tr>\n",
       "      <th>4</th>\n",
       "      <td>objective</td>\n",
       "      <td>Sarkozy : \"Ce n'est pas Hollande que le PS vou...</td>\n",
       "    </tr>\n",
       "    <tr>\n",
       "      <th>5</th>\n",
       "      <td>negative</td>\n",
       "      <td>Hollande est candidat suite au pbl de DSK et i...</td>\n",
       "    </tr>\n",
       "    <tr>\n",
       "      <th>6</th>\n",
       "      <td>objective</td>\n",
       "      <td>Depardieu dans le rôle de DSK : \"Je ne l'aime ...</td>\n",
       "    </tr>\n",
       "    <tr>\n",
       "      <th>7</th>\n",
       "      <td>mixed</td>\n",
       "      <td>Quand soudain, l'évidence. C'est pas Depardieu...</td>\n",
       "    </tr>\n",
       "    <tr>\n",
       "      <th>8</th>\n",
       "      <td>negative</td>\n",
       "      <td>Le juge tacle avocat de #dsk. Vous êtes ok pou...</td>\n",
       "    </tr>\n",
       "    <tr>\n",
       "      <th>9</th>\n",
       "      <td>objective</td>\n",
       "      <td>DSK n'est pas un libertin mais un homme brutal...</td>\n",
       "    </tr>\n",
       "    <tr>\n",
       "      <th>10</th>\n",
       "      <td>mixed</td>\n",
       "      <td>L'effet papillon. — Le second tour aurait été ...</td>\n",
       "    </tr>\n",
       "    <tr>\n",
       "      <th>11</th>\n",
       "      <td>mixed</td>\n",
       "      <td>Les déclarations de DSK démontre aux éventuels...</td>\n",
       "    </tr>\n",
       "    <tr>\n",
       "      <th>12</th>\n",
       "      <td>mixed</td>\n",
       "      <td>Royal, Valls et Moscovici fuient pour ne pas c...</td>\n",
       "    </tr>\n",
       "    <tr>\n",
       "      <th>13</th>\n",
       "      <td>objective</td>\n",
       "      <td>Hollande renvoie Dray et #DSK dans les cordes:...</td>\n",
       "    </tr>\n",
       "    <tr>\n",
       "      <th>14</th>\n",
       "      <td>objective</td>\n",
       "      <td>Selon plusieurs témoins présents hier a l'anni...</td>\n",
       "    </tr>\n",
       "    <tr>\n",
       "      <th>15</th>\n",
       "      <td>objective</td>\n",
       "      <td>Carlton de Lille : DSK assure avoir cru à du l...</td>\n",
       "    </tr>\n",
       "    <tr>\n",
       "      <th>16</th>\n",
       "      <td>negative</td>\n",
       "      <td>150 invités pour DSK et Thomas Hollande qui fa...</td>\n",
       "    </tr>\n",
       "    <tr>\n",
       "      <th>17</th>\n",
       "      <td>mixed</td>\n",
       "      <td>Face aux attaques sur l'anniv de Dray avec DSK...</td>\n",
       "    </tr>\n",
       "    <tr>\n",
       "      <th>18</th>\n",
       "      <td>negative</td>\n",
       "      <td>Sarkozy a gâché la cartouche DSK... il aurait ...</td>\n",
       "    </tr>\n",
       "    <tr>\n",
       "      <th>19</th>\n",
       "      <td>mixed</td>\n",
       "      <td>@fhollande a été 11 ans premier secrétaire du ...</td>\n",
       "    </tr>\n",
       "    <tr>\n",
       "      <th>20</th>\n",
       "      <td>negative</td>\n",
       "      <td>Hollande peut remercier Valls (comme ministre ...</td>\n",
       "    </tr>\n",
       "    <tr>\n",
       "      <th>21</th>\n",
       "      <td>objective</td>\n",
       "      <td>Affaire DSK: pas de plainte pour viol à Washin...</td>\n",
       "    </tr>\n",
       "    <tr>\n",
       "      <th>22</th>\n",
       "      <td>negative</td>\n",
       "      <td>Honte sur lui  Tiens, je n'avais pas vu \"DSK r...</td>\n",
       "    </tr>\n",
       "    <tr>\n",
       "      <th>23</th>\n",
       "      <td>negative</td>\n",
       "      <td>Je ne comprend même pas pourquoi ce fameux Chr...</td>\n",
       "    </tr>\n",
       "    <tr>\n",
       "      <th>24</th>\n",
       "      <td>objective</td>\n",
       "      <td>Les avocats de #DSK contestent le fait qu'il n...</td>\n",
       "    </tr>\n",
       "    <tr>\n",
       "      <th>25</th>\n",
       "      <td>negative</td>\n",
       "      <td>.@benoitHamon dans la navette fluviale nous fa...</td>\n",
       "    </tr>\n",
       "    <tr>\n",
       "      <th>26</th>\n",
       "      <td>objective</td>\n",
       "      <td>Carlton : la prostituée qui a mis DSK en cause...</td>\n",
       "    </tr>\n",
       "    <tr>\n",
       "      <th>27</th>\n",
       "      <td>negative</td>\n",
       "      <td>DSK et Gomis n'ont pas le même maillot mais on...</td>\n",
       "    </tr>\n",
       "    <tr>\n",
       "      <th>28</th>\n",
       "      <td>objective</td>\n",
       "      <td>Je suis un peu perdu dans l'actu importante du...</td>\n",
       "    </tr>\n",
       "    <tr>\n",
       "      <th>29</th>\n",
       "      <td>positive</td>\n",
       "      <td>à ne pas rater ce soir sur #TF1 dans New York ...</td>\n",
       "    </tr>\n",
       "    <tr>\n",
       "      <th>...</th>\n",
       "      <td>...</td>\n",
       "      <td>...</td>\n",
       "    </tr>\n",
       "    <tr>\n",
       "      <th>107457</th>\n",
       "      <td>objective</td>\n",
       "      <td>10h ds la salle au nom du mathématicien G Merc...</td>\n",
       "    </tr>\n",
       "    <tr>\n",
       "      <th>107458</th>\n",
       "      <td>negative</td>\n",
       "      <td>Le GARDIEN (tank, défense, toussa) obtient un ...</td>\n",
       "    </tr>\n",
       "    <tr>\n",
       "      <th>107459</th>\n",
       "      <td>negative</td>\n",
       "      <td>Oh tiens Bruno Retailleau un vendéen catho... ...</td>\n",
       "    </tr>\n",
       "    <tr>\n",
       "      <th>107460</th>\n",
       "      <td>negative</td>\n",
       "      <td>Dire @Emmanuel_Moine \"les faits divers ds le N...</td>\n",
       "    </tr>\n",
       "    <tr>\n",
       "      <th>107461</th>\n",
       "      <td>negative</td>\n",
       "      <td>@CMARTYLUSO1 @hangen_claude Pas sûre que Franç...</td>\n",
       "    </tr>\n",
       "    <tr>\n",
       "      <th>107462</th>\n",
       "      <td>mixed</td>\n",
       "      <td>@AzurlucLucas Une \"tentative de suicide\" qui a...</td>\n",
       "    </tr>\n",
       "    <tr>\n",
       "      <th>107463</th>\n",
       "      <td>negative</td>\n",
       "      <td>Le @RERC_SNCF nous a fait profité des fraîcheu...</td>\n",
       "    </tr>\n",
       "    <tr>\n",
       "      <th>107464</th>\n",
       "      <td>negative</td>\n",
       "      <td>Gare de Metz, aucun affichage de la destinatio...</td>\n",
       "    </tr>\n",
       "    <tr>\n",
       "      <th>107465</th>\n",
       "      <td>mixed</td>\n",
       "      <td>@francoischarron @PierrePag Quand Noël est pas...</td>\n",
       "    </tr>\n",
       "    <tr>\n",
       "      <th>107466</th>\n",
       "      <td>negative</td>\n",
       "      <td>Bah oui, la raison première de faire des enfan...</td>\n",
       "    </tr>\n",
       "    <tr>\n",
       "      <th>107467</th>\n",
       "      <td>negative</td>\n",
       "      <td>J'adore le taff , manger en 5 minutes et trava...</td>\n",
       "    </tr>\n",
       "    <tr>\n",
       "      <th>107468</th>\n",
       "      <td>negative</td>\n",
       "      <td>@Mecloveur @ActualityFrance C'est vrai que #TP...</td>\n",
       "    </tr>\n",
       "    <tr>\n",
       "      <th>107469</th>\n",
       "      <td>negative</td>\n",
       "      <td>@TintinFournier quid du risque d'attaque extra...</td>\n",
       "    </tr>\n",
       "    <tr>\n",
       "      <th>107470</th>\n",
       "      <td>negative</td>\n",
       "      <td>@RTenfrancais @PatrickFN63 Au Québec, on appel...</td>\n",
       "    </tr>\n",
       "    <tr>\n",
       "      <th>107471</th>\n",
       "      <td>negative</td>\n",
       "      <td>Meilleur service client 2016-2036 @bouyguestel...</td>\n",
       "    </tr>\n",
       "    <tr>\n",
       "      <th>107472</th>\n",
       "      <td>negative</td>\n",
       "      <td>#HollandeRenonce Eh bien ... \"Merci pour ce mo...</td>\n",
       "    </tr>\n",
       "    <tr>\n",
       "      <th>107473</th>\n",
       "      <td>mixed</td>\n",
       "      <td>@WorIdStarLaugh On dirait une version américai...</td>\n",
       "    </tr>\n",
       "    <tr>\n",
       "      <th>107474</th>\n",
       "      <td>mixed</td>\n",
       "      <td>Les filles de #JacquelineSauvage ont fait une ...</td>\n",
       "    </tr>\n",
       "    <tr>\n",
       "      <th>107475</th>\n",
       "      <td>negative</td>\n",
       "      <td>Merci à @LePoint, @LEXPRESS et comparses pour ...</td>\n",
       "    </tr>\n",
       "    <tr>\n",
       "      <th>107476</th>\n",
       "      <td>negative</td>\n",
       "      <td>@GardiensDePaix Re-arrêtés après une perpétuit...</td>\n",
       "    </tr>\n",
       "    <tr>\n",
       "      <th>107477</th>\n",
       "      <td>negative</td>\n",
       "      <td>Libéré depuis le renoncement #Hollande va,à ts...</td>\n",
       "    </tr>\n",
       "    <tr>\n",
       "      <th>107478</th>\n",
       "      <td>negative</td>\n",
       "      <td>J'adore qu'on me mette des vents, c'est ma gra...</td>\n",
       "    </tr>\n",
       "    <tr>\n",
       "      <th>107479</th>\n",
       "      <td>negative</td>\n",
       "      <td>Bon on connait la suite ..Benoît gagne #KohLan...</td>\n",
       "    </tr>\n",
       "    <tr>\n",
       "      <th>107480</th>\n",
       "      <td>mixed</td>\n",
       "      <td>On l'aime ou pas, mais la Kanye West vient de ...</td>\n",
       "    </tr>\n",
       "    <tr>\n",
       "      <th>107481</th>\n",
       "      <td>negative</td>\n",
       "      <td>du rêve pour la France \"@abadinte: Collomb vou...</td>\n",
       "    </tr>\n",
       "    <tr>\n",
       "      <th>107482</th>\n",
       "      <td>mixed</td>\n",
       "      <td>«Petit traumatisme crânien» pour Berlusconi . ...</td>\n",
       "    </tr>\n",
       "    <tr>\n",
       "      <th>107483</th>\n",
       "      <td>negative</td>\n",
       "      <td>@jf_cope Bonne nouvelle pour l'#Ump, Ségolène ...</td>\n",
       "    </tr>\n",
       "    <tr>\n",
       "      <th>107484</th>\n",
       "      <td>negative</td>\n",
       "      <td>Certains métiers sont réservés à certaines per...</td>\n",
       "    </tr>\n",
       "    <tr>\n",
       "      <th>107485</th>\n",
       "      <td>negative</td>\n",
       "      <td>le gouvernement fait tout pour qu'on ne subiss...</td>\n",
       "    </tr>\n",
       "    <tr>\n",
       "      <th>107486</th>\n",
       "      <td>negative</td>\n",
       "      <td>#Chavez va mieux, il se remet à agresser les E...</td>\n",
       "    </tr>\n",
       "  </tbody>\n",
       "</table>\n",
       "<p>107487 rows × 2 columns</p>\n",
       "</div>"
      ],
      "text/plain": [
       "        sentiment                                            content\n",
       "0       objective  Rencontre avec Dodo La Saumure : «Je ne connai...\n",
       "1        negative  Heureusement que le candidat n'est pas DSK car...\n",
       "2       objective  Quand DSK ne voulait pas «rater» les journalis...\n",
       "3       objective  Le 28 mars mise en examen pour proxénétisme ag...\n",
       "4       objective  Sarkozy : \"Ce n'est pas Hollande que le PS vou...\n",
       "...           ...                                                ...\n",
       "107482      mixed  «Petit traumatisme crânien» pour Berlusconi . ...\n",
       "107483   negative  @jf_cope Bonne nouvelle pour l'#Ump, Ségolène ...\n",
       "107484   negative  Certains métiers sont réservés à certaines per...\n",
       "107485   negative  le gouvernement fait tout pour qu'on ne subiss...\n",
       "107486   negative  #Chavez va mieux, il se remet à agresser les E...\n",
       "\n",
       "[107487 rows x 2 columns]"
      ]
     },
     "execution_count": 143,
     "metadata": {},
     "output_type": "execute_result"
    }
   ],
   "source": [
    "df_TEMP"
   ]
  },
  {
   "cell_type": "code",
   "execution_count": 144,
   "metadata": {},
   "outputs": [],
   "source": [
    "tokenizer = Tokenizer(lang='fr', n_cpus=24)\n",
    "\n",
    "data_lm = TextLMDataBunch.from_csv(mdl_path, tokenizer=tokenizer, bs=bs, csv_name='full_train.csv', classes=[\"objective\",\"negative\", \"mixed\", \"positive\"])"
   ]
  },
  {
   "cell_type": "code",
   "execution_count": 145,
   "metadata": {},
   "outputs": [
    {
     "data": {
      "text/html": [
       "<table border=\"1\" class=\"dataframe\">\n",
       "  <thead>\n",
       "    <tr style=\"text-align: right;\">\n",
       "      <th>idx</th>\n",
       "      <th>text</th>\n",
       "    </tr>\n",
       "  </thead>\n",
       "  <tbody>\n",
       "    <tr>\n",
       "      <td>0</td>\n",
       "      <td>xxbos xxmaj je suis surprise de découvrir que xxmaj besancenot est notre seul politique a avoir un discours juste sur la # xxmaj syrie ! # onpc xxbos .@marcelsel c' est moi ou le silence / censure xxup rtbf par # begov ne fait aucune vague ? xxbos xxmaj ce moment de l' année où l' on n' a pas de scrupule à mettre x , xxup dsk et xxmaj</td>\n",
       "    </tr>\n",
       "    <tr>\n",
       "      <td>1</td>\n",
       "      <td>lavrilleux enfonce xxmaj nicol … see more xxbos @boccolini1 je n' ai pas si vu ce qui s' est passé ce xxup we ms pas de raison de partir ! ! xxmaj on vs aime et on aime vs lire ! xxmaj signe une fan de xxup tpmp 😘 xxbos xxmaj déjà ? xxup rt “ @renaudrevel : xxmaj valérie xxmaj trierweiler met un terme à son émission sur xxmaj</td>\n",
       "    </tr>\n",
       "    <tr>\n",
       "      <td>2</td>\n",
       "      <td>@youtube &amp; : \" xxmaj alizée et xxmaj grégoire xxmaj lyonnet dansent sur xxmaj harry xxmaj potter sur la xxmaj tournée xxup dals [ xxmaj coup de xxmaj coeur ] \" à l' adresse xxbos xxmaj le clip de campagne de xxup dsk en 1986 n' est pas \" inédit \" , hein . xxmaj on le trouve un peu partout depuis 2011 xxbos xxmaj les socialistes vont commencer à</td>\n",
       "    </tr>\n",
       "    <tr>\n",
       "      <td>3</td>\n",
       "      <td>et xxmaj divers xxmaj droite . xxmaj génial . xxbos xxmaj visiblement xxup @xdeg ne connait pas la présomption d' innocence , pour un journaliste de @lci - même corse - cela peut être un problème ! ... # xxup dsk xxbos @anne_hidalgo xxmaj un grand bravo xxmaj anne xxmaj hidalgo , je n' avais aucun doute sur votre victoire . xxmaj bon courage pour la suite . xxbos xxmaj</td>\n",
       "    </tr>\n",
       "    <tr>\n",
       "      <td>4</td>\n",
       "      <td>y a aucune amitié , aucune compassion , aucun acharnement » # xxup lgj xxbos xxup j’ espère que xxmaj michel xxmaj sapin ne va pas inverser le cours de la bourse ... xxbos @aureliedcst _ j' ai l' impression d' avoir fait koh lanta ptn xxbos xxmaj guaino n' aime pas la comparaison xxmaj valls - xxmaj sarkozy car xxmaj valls n' a obtenu aucun résultats . xxmaj ben</td>\n",
       "    </tr>\n",
       "  </tbody>\n",
       "</table>"
      ],
      "text/plain": [
       "<IPython.core.display.HTML object>"
      ]
     },
     "metadata": {},
     "output_type": "display_data"
    }
   ],
   "source": [
    "data_lm.show_batch()"
   ]
  },
  {
   "cell_type": "code",
   "execution_count": 146,
   "metadata": {},
   "outputs": [],
   "source": [
    "data_lm.save('data_lm_3')"
   ]
  },
  {
   "cell_type": "code",
   "execution_count": 147,
   "metadata": {},
   "outputs": [
    {
     "data": {
      "text/plain": [
       "PosixPath('/home/momgpu/.fastai/data/frwiki/models')"
      ]
     },
     "execution_count": 147,
     "metadata": {},
     "output_type": "execute_result"
    }
   ],
   "source": [
    "mdl_path"
   ]
  },
  {
   "cell_type": "code",
   "execution_count": 148,
   "metadata": {},
   "outputs": [],
   "source": [
    "data_lm = load_data(mdl_path, 'data_lm_3', bs=bs)"
   ]
  },
  {
   "cell_type": "code",
   "execution_count": 149,
   "metadata": {},
   "outputs": [],
   "source": [
    "weights_pretrained = '/home/momgpu/.fastai/data/frwiki/models/1st50k_with_60kvocab'\n",
    "itos_pretrained = '/home/momgpu/.fastai/data/frwiki/models/itos_60kvocab'\n",
    "pretained_data = (weights_pretrained, itos_pretrained)"
   ]
  },
  {
   "cell_type": "code",
   "execution_count": 150,
   "metadata": {},
   "outputs": [],
   "source": [
    "learn = language_model_learner(data_lm, AWD_LSTM, pretrained_fnames=pretained_data, drop_mult=0)\n",
    "learn.freeze()"
   ]
  },
  {
   "cell_type": "code",
   "execution_count": 151,
   "metadata": {
    "scrolled": true
   },
   "outputs": [
    {
     "data": {
      "text/html": [],
      "text/plain": [
       "<IPython.core.display.HTML object>"
      ]
     },
     "metadata": {},
     "output_type": "display_data"
    },
    {
     "name": "stdout",
     "output_type": "stream",
     "text": [
      "LR Finder is complete, type {learner_name}.recorder.plot() to see the graph.\n"
     ]
    },
    {
     "data": {
      "image/png": "[encoded data removed]",
      "text/plain": [
       "<Figure size 432x288 with 1 Axes>"
      ]
     },
     "metadata": {
      "needs_background": "light"
     },
     "output_type": "display_data"
    }
   ],
   "source": [
    "learn.lr_find()\n",
    "learn.recorder.plot(skip_start=0)"
   ]
  },
  {
   "cell_type": "code",
   "execution_count": 152,
   "metadata": {},
   "outputs": [
    {
     "data": {
      "text/html": [
       "<table border=\"1\" class=\"dataframe\">\n",
       "  <thead>\n",
       "    <tr style=\"text-align: left;\">\n",
       "      <th>epoch</th>\n",
       "      <th>train_loss</th>\n",
       "      <th>valid_loss</th>\n",
       "      <th>accuracy</th>\n",
       "      <th>time</th>\n",
       "    </tr>\n",
       "  </thead>\n",
       "  <tbody>\n",
       "    <tr>\n",
       "      <td>0</td>\n",
       "      <td>1.229558</td>\n",
       "      <td>1.178990</td>\n",
       "      <td>0.793202</td>\n",
       "      <td>01:01</td>\n",
       "    </tr>\n",
       "  </tbody>\n",
       "</table>"
      ],
      "text/plain": [
       "<IPython.core.display.HTML object>"
      ]
     },
     "metadata": {},
     "output_type": "display_data"
    }
   ],
   "source": [
    "learn.fit_one_cycle(1, 1e-2)"
   ]
  },
  {
   "cell_type": "code",
   "execution_count": 153,
   "metadata": {},
   "outputs": [],
   "source": [
    "learn.save('head_pretrained_2')"
   ]
  },
  {
   "cell_type": "code",
   "execution_count": 154,
   "metadata": {},
   "outputs": [
    {
     "data": {
      "text/html": [
       "<table border=\"1\" class=\"dataframe\">\n",
       "  <thead>\n",
       "    <tr style=\"text-align: left;\">\n",
       "      <th>epoch</th>\n",
       "      <th>train_loss</th>\n",
       "      <th>valid_loss</th>\n",
       "      <th>accuracy</th>\n",
       "      <th>time</th>\n",
       "    </tr>\n",
       "  </thead>\n",
       "  <tbody>\n",
       "    <tr>\n",
       "      <td>0</td>\n",
       "      <td>0.468735</td>\n",
       "      <td>0.457800</td>\n",
       "      <td>0.916139</td>\n",
       "      <td>01:16</td>\n",
       "    </tr>\n",
       "    <tr>\n",
       "      <td>1</td>\n",
       "      <td>0.398631</td>\n",
       "      <td>0.405466</td>\n",
       "      <td>0.919626</td>\n",
       "      <td>01:16</td>\n",
       "    </tr>\n",
       "  </tbody>\n",
       "</table>"
      ],
      "text/plain": [
       "<IPython.core.display.HTML object>"
      ]
     },
     "metadata": {},
     "output_type": "display_data"
    }
   ],
   "source": [
    "learn.unfreeze()\n",
    "learn.fit_one_cycle(2, 1e-3, moms=(0.8,0.7))"
   ]
  },
  {
   "cell_type": "code",
   "execution_count": 155,
   "metadata": {},
   "outputs": [],
   "source": [
    "learn.save('lm_fine_tuned_2')"
   ]
  },
  {
   "cell_type": "code",
   "execution_count": 156,
   "metadata": {},
   "outputs": [],
   "source": [
    "learn.save_encoder('ft_enc_2')"
   ]
  },
  {
   "cell_type": "code",
   "execution_count": 157,
   "metadata": {},
   "outputs": [],
   "source": [
    "data_clas = TextClasDataBunch.from_csv(mdl_path, vocab=data_lm.train_ds.vocab, bs=bs, csv_name='full_train.csv', tokenizer=tokenizer)"
   ]
  },
  {
   "cell_type": "code",
   "execution_count": 158,
   "metadata": {},
   "outputs": [],
   "source": [
    "learn = text_classifier_learner(data_clas, AWD_LSTM, drop_mult=0.3)\n",
    "learn.load_encoder('ft_enc_2')\n",
    "learn.freeze()"
   ]
  },
  {
   "cell_type": "code",
   "execution_count": 159,
   "metadata": {},
   "outputs": [
    {
     "data": {
      "text/html": [],
      "text/plain": [
       "<IPython.core.display.HTML object>"
      ]
     },
     "metadata": {},
     "output_type": "display_data"
    },
    {
     "name": "stdout",
     "output_type": "stream",
     "text": [
      "LR Finder is complete, type {learner_name}.recorder.plot() to see the graph.\n"
     ]
    },
    {
     "data": {
      "image/png": "[encoded data removed]",
      "text/plain": [
       "<Figure size 432x288 with 1 Axes>"
      ]
     },
     "metadata": {
      "needs_background": "light"
     },
     "output_type": "display_data"
    }
   ],
   "source": [
    "learn.lr_find()\n",
    "learn.recorder.plot(skip_start=0)"
   ]
  },
  {
   "cell_type": "code",
   "execution_count": 160,
   "metadata": {},
   "outputs": [
    {
     "data": {
      "text/html": [
       "<table border=\"1\" class=\"dataframe\">\n",
       "  <thead>\n",
       "    <tr style=\"text-align: left;\">\n",
       "      <th>epoch</th>\n",
       "      <th>train_loss</th>\n",
       "      <th>valid_loss</th>\n",
       "      <th>accuracy</th>\n",
       "      <th>time</th>\n",
       "    </tr>\n",
       "  </thead>\n",
       "  <tbody>\n",
       "    <tr>\n",
       "      <td>0</td>\n",
       "      <td>0.907313</td>\n",
       "      <td>0.756602</td>\n",
       "      <td>0.700484</td>\n",
       "      <td>00:38</td>\n",
       "    </tr>\n",
       "    <tr>\n",
       "      <td>1</td>\n",
       "      <td>0.846025</td>\n",
       "      <td>0.646354</td>\n",
       "      <td>0.745744</td>\n",
       "      <td>00:38</td>\n",
       "    </tr>\n",
       "  </tbody>\n",
       "</table>"
      ],
      "text/plain": [
       "<IPython.core.display.HTML object>"
      ]
     },
     "metadata": {},
     "output_type": "display_data"
    }
   ],
   "source": [
    "learn.fit_one_cycle(2, 1e-2, moms=(0.8,0.7))"
   ]
  },
  {
   "cell_type": "code",
   "execution_count": 161,
   "metadata": {},
   "outputs": [
    {
     "data": {
      "text/html": [
       "<table border=\"1\" class=\"dataframe\">\n",
       "  <thead>\n",
       "    <tr style=\"text-align: left;\">\n",
       "      <th>epoch</th>\n",
       "      <th>train_loss</th>\n",
       "      <th>valid_loss</th>\n",
       "      <th>accuracy</th>\n",
       "      <th>time</th>\n",
       "    </tr>\n",
       "  </thead>\n",
       "  <tbody>\n",
       "    <tr>\n",
       "      <td>0</td>\n",
       "      <td>0.497467</td>\n",
       "      <td>0.170798</td>\n",
       "      <td>0.958973</td>\n",
       "      <td>00:44</td>\n",
       "    </tr>\n",
       "  </tbody>\n",
       "</table>"
      ],
      "text/plain": [
       "<IPython.core.display.HTML object>"
      ]
     },
     "metadata": {},
     "output_type": "display_data"
    }
   ],
   "source": [
    "\n",
    "\n",
    "learn.freeze_to(-2)\n",
    "learn.fit_one_cycle(1, slice(1e-2/(2.6**4),1e-2), moms=(0.8,0.7))\n",
    "\n"
   ]
  },
  {
   "cell_type": "code",
   "execution_count": 162,
   "metadata": {},
   "outputs": [
    {
     "data": {
      "text/html": [
       "<table border=\"1\" class=\"dataframe\">\n",
       "  <thead>\n",
       "    <tr style=\"text-align: left;\">\n",
       "      <th>epoch</th>\n",
       "      <th>train_loss</th>\n",
       "      <th>valid_loss</th>\n",
       "      <th>accuracy</th>\n",
       "      <th>time</th>\n",
       "    </tr>\n",
       "  </thead>\n",
       "  <tbody>\n",
       "    <tr>\n",
       "      <td>0</td>\n",
       "      <td>0.206296</td>\n",
       "      <td>0.019268</td>\n",
       "      <td>0.996837</td>\n",
       "      <td>01:08</td>\n",
       "    </tr>\n",
       "  </tbody>\n",
       "</table>"
      ],
      "text/plain": [
       "<IPython.core.display.HTML object>"
      ]
     },
     "metadata": {},
     "output_type": "display_data"
    }
   ],
   "source": [
    "learn.freeze_to(-3)\n",
    "learn.fit_one_cycle(1, slice(5e-3/(2.6**4),5e-3), moms=(0.8,0.7))"
   ]
  },
  {
   "cell_type": "code",
   "execution_count": 163,
   "metadata": {},
   "outputs": [
    {
     "data": {
      "text/html": [
       "<table border=\"1\" class=\"dataframe\">\n",
       "  <thead>\n",
       "    <tr style=\"text-align: left;\">\n",
       "      <th>epoch</th>\n",
       "      <th>train_loss</th>\n",
       "      <th>valid_loss</th>\n",
       "      <th>accuracy</th>\n",
       "      <th>time</th>\n",
       "    </tr>\n",
       "  </thead>\n",
       "  <tbody>\n",
       "    <tr>\n",
       "      <td>0</td>\n",
       "      <td>0.145489</td>\n",
       "      <td>0.007092</td>\n",
       "      <td>0.998465</td>\n",
       "      <td>01:33</td>\n",
       "    </tr>\n",
       "    <tr>\n",
       "      <td>1</td>\n",
       "      <td>0.109033</td>\n",
       "      <td>0.004191</td>\n",
       "      <td>0.999349</td>\n",
       "      <td>01:31</td>\n",
       "    </tr>\n",
       "  </tbody>\n",
       "</table>"
      ],
      "text/plain": [
       "<IPython.core.display.HTML object>"
      ]
     },
     "metadata": {},
     "output_type": "display_data"
    }
   ],
   "source": [
    "learn.unfreeze()\n",
    "learn.fit_one_cycle(2, slice(1e-3/(2.6**4),1e-3), moms=(0.8,0.7))"
   ]
  },
  {
   "cell_type": "code",
   "execution_count": 164,
   "metadata": {},
   "outputs": [
    {
     "data": {
      "text/html": [
       "<table border=\"1\" class=\"dataframe\">\n",
       "  <thead>\n",
       "    <tr style=\"text-align: left;\">\n",
       "      <th>epoch</th>\n",
       "      <th>train_loss</th>\n",
       "      <th>valid_loss</th>\n",
       "      <th>accuracy</th>\n",
       "      <th>time</th>\n",
       "    </tr>\n",
       "  </thead>\n",
       "  <tbody>\n",
       "    <tr>\n",
       "      <td>0</td>\n",
       "      <td>0.080965</td>\n",
       "      <td>0.003433</td>\n",
       "      <td>0.999163</td>\n",
       "      <td>01:32</td>\n",
       "    </tr>\n",
       "    <tr>\n",
       "      <td>1</td>\n",
       "      <td>0.074080</td>\n",
       "      <td>0.001398</td>\n",
       "      <td>0.999442</td>\n",
       "      <td>01:34</td>\n",
       "    </tr>\n",
       "  </tbody>\n",
       "</table>"
      ],
      "text/plain": [
       "<IPython.core.display.HTML object>"
      ]
     },
     "metadata": {},
     "output_type": "display_data"
    }
   ],
   "source": [
    "\n",
    "\n",
    "learn.fit_one_cycle(2, slice(1e-3/(2.6**4),1e-3), moms=(0.8,0.7))\n",
    "\n"
   ]
  },
  {
   "cell_type": "code",
   "execution_count": 193,
   "metadata": {},
   "outputs": [],
   "source": [
    "learn.save('3rdclassifier_0.999442')"
   ]
  },
  {
   "cell_type": "code",
   "execution_count": 192,
   "metadata": {},
   "outputs": [],
   "source": [
    "learn.export('3rdclassifier_0.999442.pkl')"
   ]
  },
  {
   "cell_type": "code",
   "execution_count": 191,
   "metadata": {},
   "outputs": [
    {
     "data": {
      "text/plain": [
       "(Category positive,\n",
       " tensor(3),\n",
       " tensor([4.6607e-04, 1.0419e-01, 3.1805e-04, 8.9503e-01]))"
      ]
     },
     "execution_count": 191,
     "metadata": {},
     "output_type": "execute_result"
    }
   ],
   "source": [
    "learn.predict(\"J'ai besoin des documents que je t'ai demandé?\")"
   ]
  },
  {
   "cell_type": "code",
   "execution_count": null,
   "metadata": {},
   "outputs": [],
   "source": []
  },
  {
   "cell_type": "code",
   "execution_count": null,
   "metadata": {},
   "outputs": [],
   "source": []
  }
 ],
 "metadata": {
  "kernelspec": {
   "display_name": "Python 3",
   "language": "python",
   "name": "python3"
  },
  "language_info": {
   "codemirror_mode": {
    "name": "ipython",
    "version": 3
   },
   "file_extension": ".py",
   "mimetype": "text/x-python",
   "name": "python",
   "nbconvert_exporter": "python",
   "pygments_lexer": "ipython3",
   "version": "3.7.3"
  }
 },
 "nbformat": 4,
 "nbformat_minor": 2
}
