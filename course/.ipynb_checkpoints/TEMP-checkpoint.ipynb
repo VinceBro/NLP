{
 "cells": [
  {
   "cell_type": "code",
   "execution_count": 1,
   "metadata": {},
   "outputs": [],
   "source": [
    "%reload_ext autoreload\n",
    "%autoreload 2\n",
    "%matplotlib inline\n",
    "\n",
    "from fastai import *\n",
    "from fastai.text import *\n",
    "from nlputils import split_wiki,get_wiki\n",
    "import os\n",
    "from tqdm import tqdm\n",
    "\n",
    "torch.cuda.set_device(1)"
   ]
  },
  {
   "cell_type": "code",
   "execution_count": 2,
   "metadata": {},
   "outputs": [
    {
     "data": {
      "text/plain": [
       "PosixPath('/home/momgpu/.fastai/data')"
      ]
     },
     "execution_count": 2,
     "metadata": {},
     "output_type": "execute_result"
    }
   ],
   "source": [
    "data_path = Config.data_path(); data_path"
   ]
  },
  {
   "cell_type": "code",
   "execution_count": 3,
   "metadata": {},
   "outputs": [],
   "source": [
    "lang = 'fr'"
   ]
  },
  {
   "cell_type": "code",
   "execution_count": 4,
   "metadata": {},
   "outputs": [],
   "source": [
    "name = f'{lang}wiki'\n",
    "path = data_path/name\n",
    "path.mkdir(exist_ok=True, parents=True)\n",
    "lm_fns = [f'{lang}_wt', f'{lang}_wt_vocab']"
   ]
  },
  {
   "cell_type": "code",
   "execution_count": 5,
   "metadata": {},
   "outputs": [
    {
     "data": {
      "text/plain": [
       "PosixPath('/home/momgpu/.fastai/data/frwiki')"
      ]
     },
     "execution_count": 5,
     "metadata": {},
     "output_type": "execute_result"
    }
   ],
   "source": [
    "path"
   ]
  },
  {
   "cell_type": "code",
   "execution_count": 6,
   "metadata": {},
   "outputs": [
    {
     "name": "stdout",
     "output_type": "stream",
     "text": [
      "/home/momgpu/.fastai/data/frwiki/docs already exists; not splitting\n"
     ]
    },
    {
     "data": {
      "text/plain": [
       "PosixPath('/home/momgpu/.fastai/data/frwiki/docs')"
      ]
     },
     "execution_count": 6,
     "metadata": {},
     "output_type": "execute_result"
    }
   ],
   "source": [
    "dest = split_wiki(path, lang); dest"
   ]
  },
  {
   "cell_type": "code",
   "execution_count": null,
   "metadata": {},
   "outputs": [],
   "source": [
    "df_TEMP = pd.read_csv(f\"{path}/1sttry.csv\")"
   ]
  },
  {
   "cell_type": "code",
   "execution_count": null,
   "metadata": {},
   "outputs": [],
   "source": [
    "df_TEMP = df_TEMP.iloc[:50000, :]\n"
   ]
  },
  {
   "cell_type": "code",
   "execution_count": null,
   "metadata": {},
   "outputs": [],
   "source": [
    "split_ratio = 0.1\n",
    "tot_len = len(df_TEMP)\n",
    "split_index = int(tot_len *(1-split_ratio))"
   ]
  },
  {
   "cell_type": "code",
   "execution_count": null,
   "metadata": {},
   "outputs": [],
   "source": [
    "split_index"
   ]
  },
  {
   "cell_type": "code",
   "execution_count": null,
   "metadata": {},
   "outputs": [],
   "source": [
    "df_train = df_TEMP.iloc[:split_index, :]\n",
    "df_valid = df_TEMP.iloc[split_index:tot_len, :]"
   ]
  },
  {
   "cell_type": "code",
   "execution_count": null,
   "metadata": {},
   "outputs": [],
   "source": [
    "df_train['is_valid'] = False\n",
    "df_valid['is_valid'] = True"
   ]
  },
  {
   "cell_type": "code",
   "execution_count": null,
   "metadata": {
    "scrolled": true
   },
   "outputs": [],
   "source": [
    "df_train, df_valid"
   ]
  },
  {
   "cell_type": "code",
   "execution_count": null,
   "metadata": {},
   "outputs": [],
   "source": [
    "df_regroup = pd.concat([df_train, df_valid])"
   ]
  },
  {
   "cell_type": "code",
   "execution_count": null,
   "metadata": {
    "scrolled": true
   },
   "outputs": [],
   "source": [
    "df_regroup"
   ]
  },
  {
   "cell_type": "code",
   "execution_count": null,
   "metadata": {},
   "outputs": [],
   "source": [
    "df_regroup.to_csv(path/'50ktrain.csv', header=None, index=None)"
   ]
  },
  {
   "cell_type": "markdown",
   "metadata": {},
   "source": [
    "## Section training en parallèle"
   ]
  },
  {
   "cell_type": "code",
   "execution_count": 5,
   "metadata": {},
   "outputs": [],
   "source": [
    "# Dépend du GPU\n",
    "bs=64"
   ]
  },
  {
   "cell_type": "code",
   "execution_count": 6,
   "metadata": {},
   "outputs": [],
   "source": [
    "data = load_data(path, f'{lang}_databunch_50k', bs=bs)"
   ]
  },
  {
   "cell_type": "code",
   "execution_count": 7,
   "metadata": {},
   "outputs": [],
   "source": [
    "learn2 = language_model_learner(data, AWD_LSTM, drop_mult=0.5, callback_fns=ShowGraph, pretrained=False).to_fp16()"
   ]
  },
  {
   "cell_type": "code",
   "execution_count": 8,
   "metadata": {},
   "outputs": [],
   "source": [
    "lr = 1e-2\n",
    "lr *= bs/48  # Scale learning rate by batch size"
   ]
  },
  {
   "cell_type": "code",
   "execution_count": 9,
   "metadata": {},
   "outputs": [
    {
     "data": {
      "text/html": [
       "<table border=\"1\" class=\"dataframe\">\n",
       "  <thead>\n",
       "    <tr style=\"text-align: left;\">\n",
       "      <th>epoch</th>\n",
       "      <th>train_loss</th>\n",
       "      <th>valid_loss</th>\n",
       "      <th>accuracy</th>\n",
       "      <th>time</th>\n",
       "    </tr>\n",
       "  </thead>\n",
       "  <tbody>\n",
       "    <tr>\n",
       "      <td>0</td>\n",
       "      <td>3.782096</td>\n",
       "      <td>3.783221</td>\n",
       "      <td>0.314423</td>\n",
       "      <td>1:14:20</td>\n",
       "    </tr>\n",
       "    <tr>\n",
       "      <td>1</td>\n",
       "      <td>3.782545</td>\n",
       "      <td>3.824753</td>\n",
       "      <td>0.309426</td>\n",
       "      <td>1:14:24</td>\n",
       "    </tr>\n",
       "    <tr>\n",
       "      <td>2</td>\n",
       "      <td>3.821367</td>\n",
       "      <td>3.821379</td>\n",
       "      <td>0.309338</td>\n",
       "      <td>1:14:18</td>\n",
       "    </tr>\n",
       "    <tr>\n",
       "      <td>3</td>\n",
       "      <td>3.764709</td>\n",
       "      <td>3.767718</td>\n",
       "      <td>0.314377</td>\n",
       "      <td>1:14:17</td>\n",
       "    </tr>\n",
       "    <tr>\n",
       "      <td>4</td>\n",
       "      <td>3.734682</td>\n",
       "      <td>3.711955</td>\n",
       "      <td>0.319402</td>\n",
       "      <td>1:14:14</td>\n",
       "    </tr>\n",
       "    <tr>\n",
       "      <td>5</td>\n",
       "      <td>3.669738</td>\n",
       "      <td>3.637073</td>\n",
       "      <td>0.326478</td>\n",
       "      <td>1:14:15</td>\n",
       "    </tr>\n",
       "    <tr>\n",
       "      <td>6</td>\n",
       "      <td>3.632734</td>\n",
       "      <td>3.542864</td>\n",
       "      <td>0.335650</td>\n",
       "      <td>1:14:21</td>\n",
       "    </tr>\n",
       "    <tr>\n",
       "      <td>7</td>\n",
       "      <td>3.519324</td>\n",
       "      <td>3.448922</td>\n",
       "      <td>0.345502</td>\n",
       "      <td>1:14:20</td>\n",
       "    </tr>\n",
       "    <tr>\n",
       "      <td>8</td>\n",
       "      <td>3.446448</td>\n",
       "      <td>3.370970</td>\n",
       "      <td>0.354389</td>\n",
       "      <td>1:14:17</td>\n",
       "    </tr>\n",
       "    <tr>\n",
       "      <td>9</td>\n",
       "      <td>3.418382</td>\n",
       "      <td>3.342573</td>\n",
       "      <td>0.357947</td>\n",
       "      <td>1:14:17</td>\n",
       "    </tr>\n",
       "  </tbody>\n",
       "</table>"
      ],
      "text/plain": [
       "<IPython.core.display.HTML object>"
      ]
     },
     "metadata": {},
     "output_type": "display_data"
    },
    {
     "data": {
      "image/png": "[encoded data removed]",
      "text/plain": [
       "<Figure size 432x288 with 1 Axes>"
      ]
     },
     "metadata": {},
     "output_type": "display_data"
    }
   ],
   "source": [
    "learn2.unfreeze()\n",
    "learn2.fit_one_cycle(10, lr, moms=(0.8,0.7))"
   ]
  },
  {
   "cell_type": "code",
   "execution_count": 7,
   "metadata": {},
   "outputs": [],
   "source": [
    "mdl_path = path/'models'\n",
    "mdl_path.mkdir(exist_ok=True)"
   ]
  },
  {
   "cell_type": "code",
   "execution_count": 10,
   "metadata": {},
   "outputs": [],
   "source": [
    "learn2.to_fp32().save(mdl_path/\"2ndweights50k_with_60kwords\", with_opt=False)\n",
    "learn2.data.vocab.save(mdl_path/'2ndvocab50k_with_60kwords.pkl')"
   ]
  },
  {
   "cell_type": "code",
   "execution_count": 11,
   "metadata": {},
   "outputs": [],
   "source": [
    "model1 = load_learner(mdl_path, \"test.pkl\")"
   ]
  },
  {
   "cell_type": "code",
   "execution_count": 16,
   "metadata": {},
   "outputs": [
    {
     "data": {
      "text/plain": [
       "\"Salut je teste le modèle pour voir s'il est cohérent. Il est le premier film de Disney à être réalisé par Disney . Il est sorti le . Il est sorti le . Il est sorti le . Il est sorti le . Il est sorti le\""
      ]
     },
     "execution_count": 16,
     "metadata": {},
     "output_type": "execute_result"
    }
   ],
   "source": [
    "learn2.predict(\"Salut je teste le modèle pour voir s'il est cohérent.\", 45, temperature=0.1)"
   ]
  },
  {
   "cell_type": "code",
   "execution_count": 17,
   "metadata": {},
   "outputs": [
    {
     "data": {
      "text/plain": [
       "'C\\'est le quatrième opus de la saga Star Wars par sa date de sortie, mais le premier dans l\\'ordre chronologique de l\\'histoire. Sorti seize ans après Le Retour du Jedi, il ouvre une nouvelle trilogie de préquelle, la « prélogie ».  Une nouvelle série « \" Dark City \" » est sortie en tant que seconde « \" Trilogie du Futur \" » . Cette trilogie comprend le premier épisode de la série , « \" Les Petites Victoires de Implantation \" » , sorti en 2018 . En France , la série a été diffusée sur Cartoon Network , Canal+ , Diffusion Radio et Chaîne Disney . La série est également diffusée sur Disney Channel et Disney Channel France . En France , cette série est la première série de la série à être diffusée sur Disney Channel France . La série est diffusée depuis le sur la chaîne de télévision américaine NBC . Dans la version française , la série est diffusée en France sur France 3 France , puis dans la Belgique sur La Une . En France , la série est diffusée depuis le sur Canal+ . Au Québec , la série est diffusée depuis le sur France Télévisions , France 3 et M6 Boutique . Elle est également diffusée sur la TNT française ( France 2 ) et sur Netflix sous le nom de « \" La Fille et la Femme \" » . Depuis le , les Françaises sont les principales francophones du Québec . La version française est disponible depuis le 13 janvier 2018 . La série est disponible sous les titres \" Stargate SG-1 : The Secret : The Dawn of War : The Secret Invasion \" ( 2013 ) , \" Stargate Le Grand Hotel \" ( 2012 ) , \" Marvel Le Mans Vaisseau \" ( 2012 ) , \" Stargate Atlantis \" ( 2015 - 2018 ) , \" Stargate Universe \" ( 2018 ) , \" \" ( 2018 ) , \" \" ( 2018 ) , \" \" ( 2011 ) , \" \" ( 2014 ) , \" \" ( 2015 ) , \" \" ( 2018 ) , \" \" ( 2017 ) , \" The Guerre : The Legend of War \" ( 2019 ) , \" \" ( 2019 ) , \" \" ( 2019 ) , \" \" ( 2018 ) , \" \" ( 2019 ) , \" Terre et Lune \" ( 2019 ) , \" \" ( 2019 ) , \" \" ( 2019 ) , \" Mission impossible : 16 Jours \" ( 2019 ) , \" The Last Day \" ( 2019 ) , \" The Secret War \" ( 2019 ) , \" The War Of The Dark Knight \" ( 2018 ) , \" The Lost City \" ( 2018 ) , \" Le Dernier Noël \" ( 2019 ) , \" Le Retour de la Terre \" ( 2019 ) , \" La Guerre des mondes \" ( 2019 ) et \" Le Beau-père \" ( 2018 ) . En France , l\\' actrice Caroline Heure et Eric Général ont été les vedette de la série télévisée \" Les Chevaliers de la Mort \" . Dans les pays anglophones , elle est diffusée dans de nombreux autres pays . xxbos La Maison du Peuple de la Cité de Paris est un hôtel particulier français situé dans le de Paris , au 9 , boulevard saint-denis . La Maison Blanche est située à l’ angle de la rue Impériale , de la rue Paul - Vaillant - Couturier et du boulevard Voltaire , à proximité immédiate de la place de l’ Étoile . Elle a été créée en 1767 par Jacques - Vincent Daudet , premier ministre des Répartition des Cultes et par la Révolution française . La Maison des Associations ouvre ses portes en 1851 . Elle se trouve au cœur de la Commune de Paris , en banlieue centre du quartier des Halles , sur la place Vendôme , du boulevard Malesherbes et de la rue de la Grande Partie , entre la place du Palais - Royal et la rue de Croise . La rue de la Madeleine porte le nom de Charles - Félix Baron de Infection , dit \" le Comte de Scission \" ( 1786 - 1849 ) , seigneur de Synchronisation , de La Roche - Guyon , d’ S’ Dit - Hommages et d’ Austerlitz , seigneur de La Ferté - Hauterive , marquis de Discipline , maréchal de camp et officier de la Légion d’ honneur , Jean Baptiste Bertin , fils de Jacques Louis Pasteur , de La Motte - Rouge et de Madame Louise Magdeleine Petit , et Charlotte - Madeleine - Marie François de La Grange , dame de La Ferté - Bernard , fille de Gabriel - François Le Clerc de La Marche , conseiller au Parlement'"
      ]
     },
     "execution_count": 17,
     "metadata": {},
     "output_type": "execute_result"
    }
   ],
   "source": [
    "model1.predict(\"C'est le quatrième opus de la saga Star Wars par sa date de sortie, mais le premier dans l'ordre chronologique de l'histoire. Sorti seize ans après Le Retour du Jedi, il ouvre une nouvelle trilogie de préquelle, la « prélogie ». \", 1000, temperature=0.7)"
   ]
  },
  {
   "cell_type": "code",
   "execution_count": null,
   "metadata": {},
   "outputs": [],
   "source": []
  }
 ],
 "metadata": {
  "kernelspec": {
   "display_name": "Python 3",
   "language": "python",
   "name": "python3"
  },
  "language_info": {
   "codemirror_mode": {
    "name": "ipython",
    "version": 3
   },
   "file_extension": ".py",
   "mimetype": "text/x-python",
   "name": "python",
   "nbconvert_exporter": "python",
   "pygments_lexer": "ipython3",
   "version": "3.7.3"
  }
 },
 "nbformat": 4,
 "nbformat_minor": 2
}
