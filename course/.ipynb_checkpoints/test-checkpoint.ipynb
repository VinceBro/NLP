{
 "cells": [
  {
   "cell_type": "code",
   "execution_count": 1,
   "metadata": {},
   "outputs": [],
   "source": [
    "import os\n",
    "import json"
   ]
  },
  {
   "cell_type": "code",
   "execution_count": null,
   "metadata": {
    "scrolled": true
   },
   "outputs": [
    {
     "name": "stderr",
     "output_type": "stream",
     "text": [
      "IOPub data rate exceeded.\n",
      "The notebook server will temporarily stop sending output\n",
      "to the client in order to avoid crashing it.\n",
      "To change this limit, set the config variable\n",
      "`--NotebookApp.iopub_data_rate_limit`.\n",
      "\n",
      "Current values:\n",
      "NotebookApp.iopub_data_rate_limit=1000000.0 (bytes/sec)\n",
      "NotebookApp.rate_limit_window=3.0 (secs)\n",
      "\n"
     ]
    }
   ],
   "source": [
    "out_list = []\n",
    "for i in os.listdir(\"test\"):\n",
    "    with open(\"test/\" + i, \"r\") as fich:\n",
    "        content = json.load(fich)\n",
    "    for j in content:\n",
    "        if not j[\"text_body\"] == \"\":\n",
    "            out_list.append(j[\"text_body\"])"
   ]
  },
  {
   "cell_type": "code",
   "execution_count": null,
   "metadata": {},
   "outputs": [],
   "source": [
    "len(out_list)"
   ]
  },
  {
   "cell_type": "code",
   "execution_count": 18,
   "metadata": {},
   "outputs": [
    {
     "name": "stdout",
     "output_type": "stream",
     "text": [
      "[\"Les meurtres ont été commis mercredi soir dans la petite localité de 500 habitants située à l'ouest de Saint-Jovite. Le présumé meurtrier, âgé de 17 ans, deviendra majeur la semaine prochaine. Un juge pourrait décider, à la demande de la Couronne, qu'il soit jugé comme adulte. Le suspect se trouvait encore dans la maison quand les policiers sont arrivés. Le corps du père a été retrouvé dans l'atelier et celui de la mère, dans le sous-sol. Le suspect n'habitait plus avec chez ses parents, selon des témoignages recueillis sur place, et il aurait eu des problèmes de consommation de drogue. Dans une entrevue à TVA, son colocataire et ami affirme que ces assassinats ont été longuement muris et que l'accusé nourrissait depuis longtemps de la rage contre ses parents. Pour en savoir plus vous pouvez visionner le reportage de Jean-François Guérin en RealVideo. Pour ce faire, cliquez sur l'icône rouge firgurant au bas de la photo.\", 'Kei Kamara a envoyé l’Impact de Montréal en vacances en marquant son second but du match en prolongation pour mener le Crew de Columbus à une victoire de 3 à 1 en demi-finale de l’Est, dimanche soir.', \"En pleine croissance, la compagnie considère que la rénovation de son siège social actuel ne pourrait pas répondre aux besoins de ses employés. Cet investissement s'ajoute aux 60 millions de dollars déjà annoncés en avril dernier pour la modernisation de son usine. Même si le nombre de fumeurs a diminué au Canada, Imperial Tobacco a pu poursuivre sa croissance grâce à ses exportations et en accroissant sa part du marché domestique. Imperial Tobacco contrôle plus de 70% du marché des produits du tabac au Canada.\", \"Apparemment, les ministres se sont bien amusés au dîner chez Jean Chrétien, hier soir, au 24 Sussex Drive. Le secrétaire d'État à la Francophonie, Ronald Duhamel, a déclaré que tout le monde chantait et souriait. La ministre du Travail Claudette Bradshaw a raconté qu'elle a chanté, accompagnée de Paul Martin, des chansons acadiennes. Le député Nick Discepola qui, pas plus tard que la semaine derniere, disait que M. Chrétien avait fait son temps, s'est déclaré ce mercredi entièrement solidaire du premier ministre. Le président du caucus, Paul DeVillers, a déclaré qu'il encouragerait tous les députés, non seulement à être uni, mais aussi à le montrer. En RealVideo, le compte rendu de Lina Dib.\", \"Aux États-Unis, un professeur de New York a décidé de se livrer à une expérience bien spéciale: il a installé une caméra sur le dos de sa tête pour filmer tout ce qui se passe derrière lui. Wafaa Bilal ne recule devant rien. Il s'est carrément fait greffer une caméra web dans le crâne pour mener à bien son expérience. L'opération a nécessité une anesthésie et a été effectuée par un spécialiste des piercings et des implants. Bilal fait partie d'un groupe de 23 artistes qui présentera une exposition lors de l'inauguration du Nouveau musée d'art moderne du Qatar. La caméra captera une image par minute pendant un an. Ces images seront retransmises en direct, via un ordinateur portable, dans la salle d'exposition. L'artiste n'a pas l'intention de se censurer. Il est conscient que la plupart des images qui seront saisies ne seront pas d'un grand intérêt. Il promet en revanche de la laisser ouverte en permanence, même lorsqu'il prendra sa douche ou sera en bonne compagnie... Wafaa Bilal ne souffrira qu'une exception à cette règle: lorsqu'il enseignera à l'université de New York afin de respecter la vie privée de ses élèves. Il lui suffira alors de poser un cache sur la lentille de la caméra. (TVA Nouvelles et CNN)\"]\n"
     ]
    }
   ],
   "source": [
    "print(out_list[:50])"
   ]
  },
  {
   "cell_type": "code",
   "execution_count": null,
   "metadata": {},
   "outputs": [],
   "source": []
  }
 ],
 "metadata": {
  "kernelspec": {
   "display_name": "Python 3",
   "language": "python",
   "name": "python3"
  },
  "language_info": {
   "codemirror_mode": {
    "name": "ipython",
    "version": 3
   },
   "file_extension": ".py",
   "mimetype": "text/x-python",
   "name": "python",
   "nbconvert_exporter": "python",
   "pygments_lexer": "ipython3",
   "version": "3.7.3"
  }
 },
 "nbformat": 4,
 "nbformat_minor": 2
}
