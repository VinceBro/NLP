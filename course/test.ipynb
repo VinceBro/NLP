{
 "cells": [
  {
   "cell_type": "code",
   "execution_count": 5,
   "metadata": {},
   "outputs": [],
   "source": [
    "%reload_ext autoreload\n",
    "%autoreload 2\n",
    "%matplotlib inline\n",
    "\n",
    "from fastai import *\n",
    "from fastai.text import *\n",
    "import os\n",
    "import json\n",
    "from tqdm import tqdm\n",
    "import pandas as pd\n",
    "\n",
    "torch.cuda.set_device(1)"
   ]
  },
  {
   "cell_type": "code",
   "execution_count": 1,
   "metadata": {},
   "outputs": [],
   "source": [
    "import os\n",
    "import json"
   ]
  },
  {
   "cell_type": "code",
   "execution_count": null,
   "metadata": {
    "scrolled": true
   },
   "outputs": [
    {
     "name": "stderr",
     "output_type": "stream",
     "text": [
      "IOPub data rate exceeded.\n",
      "The notebook server will temporarily stop sending output\n",
      "to the client in order to avoid crashing it.\n",
      "To change this limit, set the config variable\n",
      "`--NotebookApp.iopub_data_rate_limit`.\n",
      "\n",
      "Current values:\n",
      "NotebookApp.iopub_data_rate_limit=1000000.0 (bytes/sec)\n",
      "NotebookApp.rate_limit_window=3.0 (secs)\n",
      "\n"
     ]
    }
   ],
   "source": [
    "out_list = []\n",
    "for i in os.listdir(\"test\"):\n",
    "    with open(\"test/\" + i, \"r\") as fich:\n",
    "        content = json.load(fich)\n",
    "    for j in content:\n",
    "        if not j[\"text_body\"] == \"\":\n",
    "            out_list.append(j[\"text_body\"])"
   ]
  },
  {
   "cell_type": "code",
   "execution_count": null,
   "metadata": {},
   "outputs": [],
   "source": [
    "len(out_list)"
   ]
  },
  {
   "cell_type": "code",
   "execution_count": 18,
   "metadata": {},
   "outputs": [
    {
     "name": "stdout",
     "output_type": "stream",
     "text": [
      "[\"Les meurtres ont été commis mercredi soir dans la petite localité de 500 habitants située à l'ouest de Saint-Jovite. Le présumé meurtrier, âgé de 17 ans, deviendra majeur la semaine prochaine. Un juge pourrait décider, à la demande de la Couronne, qu'il soit jugé comme adulte. Le suspect se trouvait encore dans la maison quand les policiers sont arrivés. Le corps du père a été retrouvé dans l'atelier et celui de la mère, dans le sous-sol. Le suspect n'habitait plus avec chez ses parents, selon des témoignages recueillis sur place, et il aurait eu des problèmes de consommation de drogue. Dans une entrevue à TVA, son colocataire et ami affirme que ces assassinats ont été longuement muris et que l'accusé nourrissait depuis longtemps de la rage contre ses parents. Pour en savoir plus vous pouvez visionner le reportage de Jean-François Guérin en RealVideo. Pour ce faire, cliquez sur l'icône rouge firgurant au bas de la photo.\", 'Kei Kamara a envoyé l’Impact de Montréal en vacances en marquant son second but du match en prolongation pour mener le Crew de Columbus à une victoire de 3 à 1 en demi-finale de l’Est, dimanche soir.', \"En pleine croissance, la compagnie considère que la rénovation de son siège social actuel ne pourrait pas répondre aux besoins de ses employés. Cet investissement s'ajoute aux 60 millions de dollars déjà annoncés en avril dernier pour la modernisation de son usine. Même si le nombre de fumeurs a diminué au Canada, Imperial Tobacco a pu poursuivre sa croissance grâce à ses exportations et en accroissant sa part du marché domestique. Imperial Tobacco contrôle plus de 70% du marché des produits du tabac au Canada.\", \"Apparemment, les ministres se sont bien amusés au dîner chez Jean Chrétien, hier soir, au 24 Sussex Drive. Le secrétaire d'État à la Francophonie, Ronald Duhamel, a déclaré que tout le monde chantait et souriait. La ministre du Travail Claudette Bradshaw a raconté qu'elle a chanté, accompagnée de Paul Martin, des chansons acadiennes. Le député Nick Discepola qui, pas plus tard que la semaine derniere, disait que M. Chrétien avait fait son temps, s'est déclaré ce mercredi entièrement solidaire du premier ministre. Le président du caucus, Paul DeVillers, a déclaré qu'il encouragerait tous les députés, non seulement à être uni, mais aussi à le montrer. En RealVideo, le compte rendu de Lina Dib.\", \"Aux États-Unis, un professeur de New York a décidé de se livrer à une expérience bien spéciale: il a installé une caméra sur le dos de sa tête pour filmer tout ce qui se passe derrière lui. Wafaa Bilal ne recule devant rien. Il s'est carrément fait greffer une caméra web dans le crâne pour mener à bien son expérience. L'opération a nécessité une anesthésie et a été effectuée par un spécialiste des piercings et des implants. Bilal fait partie d'un groupe de 23 artistes qui présentera une exposition lors de l'inauguration du Nouveau musée d'art moderne du Qatar. La caméra captera une image par minute pendant un an. Ces images seront retransmises en direct, via un ordinateur portable, dans la salle d'exposition. L'artiste n'a pas l'intention de se censurer. Il est conscient que la plupart des images qui seront saisies ne seront pas d'un grand intérêt. Il promet en revanche de la laisser ouverte en permanence, même lorsqu'il prendra sa douche ou sera en bonne compagnie... Wafaa Bilal ne souffrira qu'une exception à cette règle: lorsqu'il enseignera à l'université de New York afin de respecter la vie privée de ses élèves. Il lui suffira alors de poser un cache sur la lentille de la caméra. (TVA Nouvelles et CNN)\"]\n"
     ]
    }
   ],
   "source": [
    "print(out_list[:50])"
   ]
  },
  {
   "cell_type": "code",
   "execution_count": 6,
   "metadata": {},
   "outputs": [],
   "source": [
    "bs = 48"
   ]
  },
  {
   "cell_type": "code",
   "execution_count": 7,
   "metadata": {},
   "outputs": [],
   "source": [
    "lang = 'fr'"
   ]
  },
  {
   "cell_type": "code",
   "execution_count": 8,
   "metadata": {},
   "outputs": [],
   "source": [
    "path = Path(\"/home/momgpu/Documents/NLP/course/data/TVA\")"
   ]
  },
  {
   "cell_type": "code",
   "execution_count": 9,
   "metadata": {},
   "outputs": [],
   "source": [
    "mdl_path = Path(\"/home/momgpu/.fastai/data/TVA\")"
   ]
  },
  {
   "cell_type": "code",
   "execution_count": 10,
   "metadata": {},
   "outputs": [
    {
     "data": {
      "text/plain": [
       "PosixPath('/home/momgpu/Documents/NLP/course/data/TVA')"
      ]
     },
     "execution_count": 10,
     "metadata": {},
     "output_type": "execute_result"
    }
   ],
   "source": [
    "path"
   ]
  },
  {
   "cell_type": "code",
   "execution_count": 11,
   "metadata": {},
   "outputs": [],
   "source": [
    "data = load_data(mdl_path, \"TVA99klm\", bs=bs)"
   ]
  },
  {
   "cell_type": "code",
   "execution_count": 12,
   "metadata": {},
   "outputs": [],
   "source": [
    "learn = language_model_learner(data, AWD_LSTM, drop_mult=0, callback_fns=ShowGraph, pretrained=False)"
   ]
  },
  {
   "cell_type": "code",
   "execution_count": 13,
   "metadata": {},
   "outputs": [
    {
     "data": {
      "text/html": [],
      "text/plain": [
       "<IPython.core.display.HTML object>"
      ]
     },
     "metadata": {},
     "output_type": "display_data"
    },
    {
     "name": "stdout",
     "output_type": "stream",
     "text": [
      "LR Finder is complete, type {learner_name}.recorder.plot() to see the graph.\n"
     ]
    },
    {
     "data": {
      "image/png": "[encoded data removed]",
      "text/plain": [
       "<Figure size 432x288 with 1 Axes>"
      ]
     },
     "metadata": {
      "needs_background": "light"
     },
     "output_type": "display_data"
    }
   ],
   "source": [
    "learn.lr_find()\n",
    "learn.recorder.plot(skip_start=0)"
   ]
  },
  {
   "cell_type": "code",
   "execution_count": 14,
   "metadata": {
    "scrolled": false
   },
   "outputs": [
    {
     "data": {
      "text/html": [
       "<table border=\"1\" class=\"dataframe\">\n",
       "  <thead>\n",
       "    <tr style=\"text-align: left;\">\n",
       "      <th>epoch</th>\n",
       "      <th>train_loss</th>\n",
       "      <th>valid_loss</th>\n",
       "      <th>accuracy</th>\n",
       "      <th>time</th>\n",
       "    </tr>\n",
       "  </thead>\n",
       "  <tbody>\n",
       "    <tr>\n",
       "      <td>0</td>\n",
       "      <td>77.141571</td>\n",
       "      <td>71.219215</td>\n",
       "      <td>0.002033</td>\n",
       "      <td>18:23</td>\n",
       "    </tr>\n",
       "    <tr>\n",
       "      <td>1</td>\n",
       "      <td>6.826468</td>\n",
       "      <td>6.837417</td>\n",
       "      <td>0.088588</td>\n",
       "      <td>18:22</td>\n",
       "    </tr>\n",
       "    <tr>\n",
       "      <td>2</td>\n",
       "      <td>5.461543</td>\n",
       "      <td>5.450494</td>\n",
       "      <td>0.189513</td>\n",
       "      <td>18:32</td>\n",
       "    </tr>\n",
       "  </tbody>\n",
       "</table>"
      ],
      "text/plain": [
       "<IPython.core.display.HTML object>"
      ]
     },
     "metadata": {},
     "output_type": "display_data"
    },
    {
     "data": {
      "image/png": "[encoded data removed]",
      "text/plain": [
       "<Figure size 432x288 with 1 Axes>"
      ]
     },
     "metadata": {},
     "output_type": "display_data"
    }
   ],
   "source": [
    "learn.fit_one_cycle(3, 1e-1, moms=(0.8,0.7))"
   ]
  },
  {
   "cell_type": "code",
   "execution_count": 15,
   "metadata": {
    "scrolled": false
   },
   "outputs": [
    {
     "data": {
      "text/html": [
       "<table border=\"1\" class=\"dataframe\">\n",
       "  <thead>\n",
       "    <tr style=\"text-align: left;\">\n",
       "      <th>epoch</th>\n",
       "      <th>train_loss</th>\n",
       "      <th>valid_loss</th>\n",
       "      <th>accuracy</th>\n",
       "      <th>time</th>\n",
       "    </tr>\n",
       "  </thead>\n",
       "  <tbody>\n",
       "    <tr>\n",
       "      <td>0</td>\n",
       "      <td>4.260570</td>\n",
       "      <td>4.268307</td>\n",
       "      <td>0.259327</td>\n",
       "      <td>18:35</td>\n",
       "    </tr>\n",
       "    <tr>\n",
       "      <td>1</td>\n",
       "      <td>4.073133</td>\n",
       "      <td>4.066251</td>\n",
       "      <td>0.276694</td>\n",
       "      <td>18:35</td>\n",
       "    </tr>\n",
       "    <tr>\n",
       "      <td>2</td>\n",
       "      <td>3.875628</td>\n",
       "      <td>3.881546</td>\n",
       "      <td>0.297579</td>\n",
       "      <td>18:35</td>\n",
       "    </tr>\n",
       "    <tr>\n",
       "      <td>3</td>\n",
       "      <td>3.727603</td>\n",
       "      <td>3.753803</td>\n",
       "      <td>0.311962</td>\n",
       "      <td>18:35</td>\n",
       "    </tr>\n",
       "  </tbody>\n",
       "</table>"
      ],
      "text/plain": [
       "<IPython.core.display.HTML object>"
      ]
     },
     "metadata": {},
     "output_type": "display_data"
    },
    {
     "data": {
      "image/png": "[encoded data removed]",
      "text/plain": [
       "<Figure size 432x288 with 1 Axes>"
      ]
     },
     "metadata": {},
     "output_type": "display_data"
    }
   ],
   "source": [
    "learn.fit_one_cycle(4, 1e-2, moms=(0.8,0.7))"
   ]
  },
  {
   "cell_type": "code",
   "execution_count": 16,
   "metadata": {},
   "outputs": [
    {
     "data": {
      "text/html": [
       "<table border=\"1\" class=\"dataframe\">\n",
       "  <thead>\n",
       "    <tr style=\"text-align: left;\">\n",
       "      <th>epoch</th>\n",
       "      <th>train_loss</th>\n",
       "      <th>valid_loss</th>\n",
       "      <th>accuracy</th>\n",
       "      <th>time</th>\n",
       "    </tr>\n",
       "  </thead>\n",
       "  <tbody>\n",
       "    <tr>\n",
       "      <td>0</td>\n",
       "      <td>3.654045</td>\n",
       "      <td>3.695055</td>\n",
       "      <td>0.318429</td>\n",
       "      <td>18:33</td>\n",
       "    </tr>\n",
       "    <tr>\n",
       "      <td>1</td>\n",
       "      <td>3.463784</td>\n",
       "      <td>3.514987</td>\n",
       "      <td>0.336927</td>\n",
       "      <td>18:34</td>\n",
       "    </tr>\n",
       "    <tr>\n",
       "      <td>2</td>\n",
       "      <td>3.318991</td>\n",
       "      <td>3.369116</td>\n",
       "      <td>0.352748</td>\n",
       "      <td>18:34</td>\n",
       "    </tr>\n",
       "    <tr>\n",
       "      <td>3</td>\n",
       "      <td>3.178317</td>\n",
       "      <td>3.277124</td>\n",
       "      <td>0.363899</td>\n",
       "      <td>18:33</td>\n",
       "    </tr>\n",
       "    <tr>\n",
       "      <td>4</td>\n",
       "      <td>3.058954</td>\n",
       "      <td>3.252873</td>\n",
       "      <td>0.367390</td>\n",
       "      <td>18:32</td>\n",
       "    </tr>\n",
       "  </tbody>\n",
       "</table>"
      ],
      "text/plain": [
       "<IPython.core.display.HTML object>"
      ]
     },
     "metadata": {},
     "output_type": "display_data"
    },
    {
     "data": {
      "image/png": "[encoded data removed]",
      "text/plain": [
       "<Figure size 432x288 with 1 Axes>"
      ]
     },
     "metadata": {},
     "output_type": "display_data"
    }
   ],
   "source": [
    "learn.unfreeze()\n",
    "learn.fit_one_cycle(5, 2e-3, moms=(0.8,0.7))"
   ]
  },
  {
   "cell_type": "code",
   "execution_count": 17,
   "metadata": {},
   "outputs": [],
   "source": [
    "learn.save(mdl_path/'2ndTVA_clean')"
   ]
  },
  {
   "cell_type": "code",
   "execution_count": 18,
   "metadata": {},
   "outputs": [],
   "source": [
    "learn.data.vocab.save(mdl_path/'2ndTVA_clean')"
   ]
  },
  {
   "cell_type": "code",
   "execution_count": 19,
   "metadata": {},
   "outputs": [],
   "source": [
    "learn.export(mdl_path/\"2ndTVA_clean.pkl\")"
   ]
  },
  {
   "cell_type": "code",
   "execution_count": 23,
   "metadata": {},
   "outputs": [
    {
     "data": {
      "text/plain": [
       "\" La perte nette pour le trimestre terminé le 30 septembre 2003 a été de 1,5M$ , ou 0,03 $ par action , comparativement à une perte nette de 12M$ ( 0,03 $ par action ) pour le trimestre correspondant de l' exercice précédent . Les ventes ont augmenté de 9 % à EN juillet , passant de 2,1M$ à LA Société , en raison de la baisse des revenus de la société . Les revenus tirés des activités de la compagnie ont augmenté de 8 % pour atteindre 2,3G$ , ce qui représente une hausse de 2M$ par rapport à l' an dernier . Le bénéfice net du troisième trimestre de 2003 a été de BAIIA et de SAVOIR , contre 2M$ en 2002 . Le bénéfice net attribuable aux activités poursuivies s' est élevé à ( BAIIA ) , en regard de 1,7M$ pour la période correspondante de l' exercice précédent . Le bénéfice net a augmenté de 1,4M$ pour le trimestre , passant de 1,7M$ en 2002 à 6M$ pour la période correspondante de l'\""
      ]
     },
     "execution_count": 23,
     "metadata": {},
     "output_type": "execute_result"
    }
   ],
   "source": [
    "learn.predict(\"\", 200, temperature=0.4)"
   ]
  },
  {
   "cell_type": "code",
   "execution_count": null,
   "metadata": {},
   "outputs": [],
   "source": []
  }
 ],
 "metadata": {
  "kernelspec": {
   "display_name": "Python 3",
   "language": "python",
   "name": "python3"
  },
  "language_info": {
   "codemirror_mode": {
    "name": "ipython",
    "version": 3
   },
   "file_extension": ".py",
   "mimetype": "text/x-python",
   "name": "python",
   "nbconvert_exporter": "python",
   "pygments_lexer": "ipython3",
   "version": "3.7.3"
  }
 },
 "nbformat": 4,
 "nbformat_minor": 2
}
